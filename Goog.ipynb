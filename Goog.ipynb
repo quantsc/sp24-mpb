{
 "cells": [
  {
   "cell_type": "code",
   "execution_count": 5,
   "metadata": {
    "metadata": {}
   },
   "outputs": [],
   "source": [
    "from __future__ import annotations\n",
    "import polars as pl\n",
    "import seaborn as sns\n",
    "import tqdm\n",
    "from databento_dbn import FIXED_PRICE_SCALE, UNDEF_PRICE\n",
    "# plot price of each over time\n",
    "import plotly.graph_objs as go\n",
    "import plotly.offline as pyo\n",
    "from helpers import * \n"
   ]
  },
  {
   "cell_type": "code",
   "execution_count": 2,
   "metadata": {
    "metadata": {}
   },
   "outputs": [
    {
     "data": {
      "text/plain": [
       "(4999993, 75)"
      ]
     },
     "execution_count": 2,
     "metadata": {},
     "output_type": "execute_result"
    }
   ],
   "source": [
    "data = pl.read_parquet(\"/Users/danny/trading/databento/mbp.parquet\")\n",
    "data = data.filter((pl.col(\"symbol\") == \"GOOGL\") | (pl.col(\"symbol\") == \"GOOG\"))\n",
    "data = data.filter(pl.col(\"price\") != UNDEF_PRICE)\n",
    "data = data.with_columns(pl.col(\"ts_event\") - pl.col(\"ts_event\").min())\n",
    "data = data[:5_000_000]\n",
    "data = data.filter(pl.col(\"price\") < 200370000000.0)\n",
    "data.shape"
   ]
  },
  {
   "cell_type": "code",
   "execution_count": null,
   "metadata": {},
   "outputs": [],
   "source": [
    "import pandas as pd\n",
    "import numpy as np\n",
    "import datetime as dt  # For plotting x-axis as dates\n",
    "import matplotlib.pyplot as plt\n",
    "import statsmodels.api as sm\n",
    "\n",
    "from arbitragelab.trading import BasicCopulaTradingRule\n",
    "import arbitragelab.copula_approach.copula_calculation as ccalc\n",
    "from arbitragelab.copula_approach.archimedean import (Gumbel, Clayton, Frank, Joe, N13, N14)\n",
    "from arbitragelab.copula_approach.elliptical import (StudentCopula, GaussianCopula)"
   ]
  },
  {
   "cell_type": "code",
   "execution_count": 6,
   "metadata": {
    "metadata": {}
   },
   "outputs": [],
   "source": [
    "\n",
    "def plot_price(data: pl.DataFrame, symbols: list[str]):\n",
    "    traces = []\n",
    "    vals = []\n",
    "    for symbol in symbols: \n",
    "        symbol_data = data.filter(pl.col(\"symbol\") == symbol)\n",
    "        symbol_data = symbol_data.with_columns(pl.col(\"ts_event\").dt.total_seconds())\n",
    "        symbol_data = symbol_data.group_by(\"ts_event\").agg(pl.col(\"price\").mean())\n",
    "        symbol_data = symbol_data.with_columns((pl.col(\"price\") / pl.col(\"price\").shift(1)).log())\n",
    "        symbol_data = symbol_data.with_columns(pl.col(\"price\") / FIXED_PRICE_SCALE)\n",
    "        merged = symbol_data.to_pandas()\n",
    "        vec = merged[\"price\"].values\n",
    "        vals.append(vec)\n",
    "\n",
    "        trace = go.Scatter(\n",
    "            x=merged.index,\n",
    "            y=merged[\"price\"],\n",
    "            mode='lines',\n",
    "            name=symbol\n",
    "        )\n",
    "        traces.append(trace)\n",
    "\n",
    "    # Cast to fp16\n",
    "    # Drop na \n",
    "    # vals = [val[~np.isnan(val)] for val in vals]\n",
    "    length = min([len(val) for val in vals])\n",
    "    vals = [val[2:length] for val in vals]\n",
    "    # vals = [np.array(val, dtype=np.float16) for val in vals]\n",
    "    print(distance_correlation(vals[0], vals[1]))\n",
    "    print(np.corrcoef(vals[0], vals[1])[0, 1])\n",
    "\n",
    "    layout = go.Layout(\n",
    "        title='Interactive Plot of Bid and Ask Prices',\n",
    "        xaxis=dict(title='Time'),\n",
    "        yaxis=dict(title='Price'),\n",
    "        hovermode='closest'\n",
    "    )\n",
    "\n",
    "    fig = go.Figure(data=traces, layout=layout)\n",
    "    pyo.iplot(fig)\n",
    "\n",
    "plot_price(data,[\"GOOGL\", \"GOOG\"])"
   ]
  },
  {
   "cell_type": "code",
   "execution_count": null,
   "metadata": {
    "metadata": {}
   },
   "outputs": [],
   "source": [
    "from fasterbook.lob import LimitOrderBook, Order\n",
    "\n",
    "book = LimitOrderBook()\n",
    "\n",
    "\n",
    "def row_to_order(row: pl.Series) -> Order:\n",
    "    return Order(\n",
    "        uid=row[\"order_id\"], \n",
    "        price=row[\"price\"],\n",
    "        is_bid=row[\"side\"] == \"B\",\n",
    "        size=row[\"size\"],\n",
    "        timestamp=row[\"ts_recv\"]\n",
    "    )\n",
    "\n",
    "is_first = True\n",
    "prev_item = None\n",
    "for row in tqdm.tqdm(data.iter_rows(named=True), total=data.shape[0]):\n",
    "    if row[\"action\"] != \"A\":\n",
    "        continue\n",
    "    order = row_to_order(row)\n",
    "    print(order)\n",
    "\n",
    "    order.previous_item = prev_item\n",
    "    prev_item = order\n",
    "    book.process(row_to_order(row))"
   ]
  },
  {
   "cell_type": "code",
   "execution_count": null,
   "metadata": {
    "metadata": {}
   },
   "outputs": [],
   "source": [
    "import matplotlib.pyplot as plt\n",
    "import numpy as np\n",
    "\n",
    "# hist depth \n",
    "plt.hist(data['depth'].to_numpy(), bins=100)"
   ]
  },
  {
   "cell_type": "code",
   "execution_count": null,
   "metadata": {
    "metadata": {}
   },
   "outputs": [],
   "source": [
    "data['depth'].value_counts().sort(\"depth\") "
   ]
  },
  {
   "cell_type": "code",
   "execution_count": null,
   "metadata": {
    "metadata": {}
   },
   "outputs": [],
   "source": [
    "data.filter(pl.col(\"action\") != \"R\").head(20)\n",
    "\n",
    "def prepare_mbp(df: pl.DataFrame, symbol=None) -> pl.DataFrame:\n",
    "    df = df.filter(pl.col(\"action\") != \"R\")\n",
    "    df = df.filter(pl.col(\"price\") != UNDEF_PRICE)\n",
    "    df = df.with_column(pl.col(\"price\") / FIXED_PRICE_SCALE).alias(\"price\")\n",
    "    return df"
   ]
  },
  {
   "cell_type": "code",
   "execution_count": null,
   "metadata": {},
   "outputs": [],
   "source": [
    "def prepare_symbol(data: pl.DataFrame, date: str, symbol: str):\n",
    "    # Filter by symbol\n",
    "    df = data.clone()\n",
    "    df = df.filter((df[\"symbol\"] == symbol) & (df[\"size\"] != 0))\n",
    "    # Drop unnecessary columns\n",
    "    df = df.drop([\"__index_level_0__\", \"ts_recv\", \"channel_id\", \"publisher_id\", \"rtype\", \"instrument_id\", \"flags\", \"sequence\", \"ts_in_delta\"])\n",
    "\n",
    "    # \n",
    "    df = df.with_columns(df[\"ts_event\"].cast(pl.Datetime))\n",
    "    \n",
    "    # Filter by action\n",
    "    df = df.filter((pl.col(\"action\") != \"T\") & (pl.col(\"action\") != \"F\"))\n",
    "\n",
    "    # Filter by date\n",
    "    df = df.with_columns(df[\"ts_event\"].cast(pl.Date).alias(\"is_date\") == pl.lit(date).str.to_date()) \n",
    "    df = df.filter(df[\"is_date\"] == True).drop([\"is_date\"])\n",
    "    # Fix the datetimes                                \n",
    "    df = df.with_columns(df[\"size\"].cast(pl.Int16))\n",
    "\n",
    "    return df"
   ]
  },
  {
   "cell_type": "code",
   "execution_count": null,
   "metadata": {},
   "outputs": [],
   "source": [
    "book = Book()\n",
    "df = prepare_symbol(data, \"2024-01-31\", \"GOOG\")\n",
    "num_rows = df.shape[0]\n",
    "best_bids = []\n",
    "best_asks = []\n",
    "for i, row in enumerate(tqdm.tqdm(df.iter_rows(named=True))):\n",
    "    best_bid, best_ask = book.bbo()\n",
    "    best_bids.append({\"price\": best_bid.price, \"size\": best_bid.size})\n",
    "    best_asks.append({\"price\": best_ask.price, \"size\": best_ask.size})\n",
    "    book.apply(row)\n",
    "    if i == 10000:\n",
    "        break\n",
    "\n",
    "\n",
    "best_bids = pl.DataFrame(best_bids) / FIXED_PRICE_SCALE\n",
    "best_asks = pl.DataFrame(best_asks) / FIXED_PRICE_SCALE\n",
    "# Rename to best_bid_price and best_bid_size, best_ask_price and best_ask_size\n",
    "best_bids = best_bids.rename({\"price\": \"best_bid_price\", \"size\": \"best_bid_size\"})\n",
    "best_asks = best_asks.rename({\"price\": \"best_ask_price\", \"size\": \"best_ask_size\"})\n",
    "merged = pl.concat([best_bids, best_asks], how=\"horizontal\")"
   ]
  },
  {
   "cell_type": "code",
   "execution_count": null,
   "metadata": {},
   "outputs": [],
   "source": [
    "\n",
    "# import matplotlib.pyplot as plt\n",
    "\n",
    "# limit = len(merged)\n",
    "# start = 0\n",
    "# limit = 10**5\n",
    "\n",
    "# plt.figure(figsize=(20, 10))\n",
    "# plt.plot(merged[\"best_bid_price\"][start:limit], label=\"Best Bid Price\")\n",
    "# plt.plot(merged[\"best_ask_price\"][start:limit], label=\"Best Ask Price\")\n",
    "# plt.legend()\n",
    "# plt.xlabel('Time')\n",
    "# plt.ylabel('Price')\n",
    "# plt.title('Interactive Plot of Bid and Ask Prices')\n",
    "# plt.show()\n"
   ]
  },
  {
   "cell_type": "code",
   "execution_count": null,
   "metadata": {},
   "outputs": [],
   "source": [
    "import plotly.graph_objs as go\n",
    "import plotly.offline as pyo\n",
    "\n",
    "limit = len(merged)\n",
    "start = 0\n",
    "limit = 10**5\n",
    "\n",
    "# merged = merged.to_pandas()\n",
    "\n",
    "trace1 = go.Scatter(\n",
    "    x=merged.index[start:limit],\n",
    "    y=merged[\"best_bid_size\"][start:limit],\n",
    "    mode='lines',\n",
    "    name='Best Bid Price'\n",
    ")\n",
    "\n",
    "trace2 = go.Scatter(\n",
    "    x=merged.index[start:limit],\n",
    "    y=-merged[\"best_ask_size\"][start:limit],\n",
    "    mode='lines',\n",
    "    name='Best Ask Price'\n",
    ")\n",
    "\n",
    "layout = go.Layout(\n",
    "    title='Interactive Plot of Bid and Ask Prices',\n",
    "    xaxis=dict(title='Time'),\n",
    "    yaxis=dict(title='Price'),\n",
    "    hovermode='closest'\n",
    ")\n",
    "\n",
    "fig = go.Figure(data=[trace1, trace2], layout=layout)\n",
    "pyo.iplot(fig)\n"
   ]
  }
 ],
 "metadata": {
  "kernelspec": {
   "display_name": "dev",
   "language": "python",
   "name": "python3"
  },
  "language_info": {
   "codemirror_mode": {
    "name": "ipython",
    "version": 3
   },
   "file_extension": ".py",
   "mimetype": "text/x-python",
   "name": "python",
   "nbconvert_exporter": "python",
   "pygments_lexer": "ipython3",
   "version": "3.10.12"
  }
 },
 "nbformat": 4,
 "nbformat_minor": 2
}
