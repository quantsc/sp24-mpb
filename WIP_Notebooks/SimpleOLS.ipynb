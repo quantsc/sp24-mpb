{
 "cells": [
  {
   "cell_type": "code",
   "execution_count": 1,
   "metadata": {
    "metadata": {}
   },
   "outputs": [],
   "source": [
    "from OrderBook import Book\n",
    "from __future__ import annotations\n",
    "\n",
    "import polars as pl\n",
    "import seaborn as sns\n",
    "import tqdm\n",
    "from databento_dbn import FIXED_PRICE_SCALE, UNDEF_PRICE\n",
    "from xgboost import XGBRegressor\n",
    "\n",
    "from sklearn.model_selection import train_test_split\n",
    "from sklearn.ensemble import RandomForestRegressor\n",
    "from sklearn.linear_model import *\n",
    "from sklearn.metrics import mean_squared_error, r2_score    \n",
    "import numpy as np\n",
    "from features import *"
   ]
  },
  {
   "cell_type": "code",
   "execution_count": 2,
   "metadata": {
    "metadata": {}
   },
   "outputs": [
    {
     "name": "stdout",
     "output_type": "stream",
     "text": [
      "(62131467, 16)\n"
     ]
    },
    {
     "data": {
      "text/html": [
       "<div><style>\n",
       ".dataframe > thead > tr,\n",
       ".dataframe > tbody > tr {\n",
       "  text-align: right;\n",
       "  white-space: pre-wrap;\n",
       "}\n",
       "</style>\n",
       "<small>shape: (10, 7)</small><table border=\"1\" class=\"dataframe\"><thead><tr><th>ts_event</th><th>action</th><th>side</th><th>price</th><th>size</th><th>order_id</th><th>symbol</th></tr><tr><td>duration[μs]</td><td>str</td><td>str</td><td>i64</td><td>i16</td><td>i64</td><td>str</td></tr></thead><tbody><tr><td>0µs</td><td>&quot;A&quot;</td><td>&quot;B&quot;</td><td>144380000000</td><td>100</td><td>43829</td><td>&quot;GOOG&quot;</td></tr><tr><td>20s 207152µs</td><td>&quot;A&quot;</td><td>&quot;A&quot;</td><td>147900000000</td><td>200</td><td>4403</td><td>&quot;GOOG&quot;</td></tr><tr><td>3m 29s 585853µs</td><td>&quot;A&quot;</td><td>&quot;B&quot;</td><td>136890000000</td><td>100</td><td>43829</td><td>&quot;GOOG&quot;</td></tr><tr><td>3m 29s 585860µs</td><td>&quot;A&quot;</td><td>&quot;B&quot;</td><td>136890000000</td><td>100</td><td>43829</td><td>&quot;GOOG&quot;</td></tr><tr><td>3m 29s 585860µs</td><td>&quot;A&quot;</td><td>&quot;A&quot;</td><td>151380000000</td><td>100</td><td>43829</td><td>&quot;GOOG&quot;</td></tr><tr><td>4m 30s 109508µs</td><td>&quot;A&quot;</td><td>&quot;B&quot;</td><td>136890000000</td><td>100</td><td>43829</td><td>&quot;GOOG&quot;</td></tr><tr><td>4m 30s 109508µs</td><td>&quot;A&quot;</td><td>&quot;A&quot;</td><td>144450000000</td><td>100</td><td>43829</td><td>&quot;GOOG&quot;</td></tr><tr><td>4m 30s 113741µs</td><td>&quot;A&quot;</td><td>&quot;B&quot;</td><td>136890000000</td><td>100</td><td>43829</td><td>&quot;GOOG&quot;</td></tr><tr><td>4m 30s 113741µs</td><td>&quot;A&quot;</td><td>&quot;A&quot;</td><td>151380000000</td><td>100</td><td>43829</td><td>&quot;GOOG&quot;</td></tr><tr><td>4m 47s 768051µs</td><td>&quot;A&quot;</td><td>&quot;A&quot;</td><td>151380000000</td><td>100</td><td>43829</td><td>&quot;GOOG&quot;</td></tr></tbody></table></div>"
      ],
      "text/plain": [
       "shape: (10, 7)\n",
       "┌─────────────────┬────────┬──────┬──────────────┬──────┬──────────┬────────┐\n",
       "│ ts_event        ┆ action ┆ side ┆ price        ┆ size ┆ order_id ┆ symbol │\n",
       "│ ---             ┆ ---    ┆ ---  ┆ ---          ┆ ---  ┆ ---      ┆ ---    │\n",
       "│ duration[μs]    ┆ str    ┆ str  ┆ i64          ┆ i16  ┆ i64      ┆ str    │\n",
       "╞═════════════════╪════════╪══════╪══════════════╪══════╪══════════╪════════╡\n",
       "│ 0µs             ┆ A      ┆ B    ┆ 144380000000 ┆ 100  ┆ 43829    ┆ GOOG   │\n",
       "│ 20s 207152µs    ┆ A      ┆ A    ┆ 147900000000 ┆ 200  ┆ 4403     ┆ GOOG   │\n",
       "│ 3m 29s 585853µs ┆ A      ┆ B    ┆ 136890000000 ┆ 100  ┆ 43829    ┆ GOOG   │\n",
       "│ 3m 29s 585860µs ┆ A      ┆ B    ┆ 136890000000 ┆ 100  ┆ 43829    ┆ GOOG   │\n",
       "│ 3m 29s 585860µs ┆ A      ┆ A    ┆ 151380000000 ┆ 100  ┆ 43829    ┆ GOOG   │\n",
       "│ 4m 30s 109508µs ┆ A      ┆ B    ┆ 136890000000 ┆ 100  ┆ 43829    ┆ GOOG   │\n",
       "│ 4m 30s 109508µs ┆ A      ┆ A    ┆ 144450000000 ┆ 100  ┆ 43829    ┆ GOOG   │\n",
       "│ 4m 30s 113741µs ┆ A      ┆ B    ┆ 136890000000 ┆ 100  ┆ 43829    ┆ GOOG   │\n",
       "│ 4m 30s 113741µs ┆ A      ┆ A    ┆ 151380000000 ┆ 100  ┆ 43829    ┆ GOOG   │\n",
       "│ 4m 47s 768051µs ┆ A      ┆ A    ┆ 151380000000 ┆ 100  ┆ 43829    ┆ GOOG   │\n",
       "└─────────────────┴────────┴──────┴──────────────┴──────┴──────────┴────────┘"
      ]
     },
     "execution_count": 2,
     "metadata": {},
     "output_type": "execute_result"
    }
   ],
   "source": [
    "from helpers import prepare_symbol\n",
    "data = pl.read_parquet(\"/Users/danny/trading/databento/mbo.parquet\")\n",
    "print(data.shape)\n",
    "df = prepare_symbol(data, \"2024-01-31\", \"GOOG\")\n",
    "# Get only the second hour of data\n",
    "# df = df.filter(pl.col(\"ts_event\") < pl.col(\"ts_event\").min() + pl.duration(hours=2))\n",
    "# df = df.filter(pl.col(\"ts_event\") > pl.col(\"ts_event\").min())\n",
    "df = df.with_columns(pl.col(\"ts_event\") - pl.col(\"ts_event\").min())\n",
    "# subtract the minimum timestamp to get the time in seconds\n",
    "df[:10]"
   ]
  },
  {
   "cell_type": "code",
   "execution_count": 3,
   "metadata": {
    "metadata": {}
   },
   "outputs": [
    {
     "name": "stderr",
     "output_type": "stream",
     "text": [
      "100%|██████████| 1747173/1747173 [00:17<00:00, 98520.14it/s] \n"
     ]
    }
   ],
   "source": [
    "book = Book()\n",
    "best_bids_list = []\n",
    "best_asks_list = []\n",
    "num_rows = df.shape[0]\n",
    "for i, row in enumerate(tqdm.tqdm(df.iter_rows(named=True), total=num_rows)):\n",
    "    best_bid, best_ask = book.bbo()\n",
    "    best_bids_list.append({\"ts_event\": row[\"ts_event\"], \"price\": best_bid.price, \"size\": best_bid.size, \"total\": best_bid.total_size})\n",
    "    best_asks_list.append({\"ts_event\": row[\"ts_event\"], \"price\": best_ask.price, \"size\": best_ask.size, \"total\": best_ask.total_size})\n",
    "    book.apply(row)\n",
    "    # if the ts_event is > 1 hour, break\n"
   ]
  },
  {
   "cell_type": "code",
   "execution_count": 4,
   "metadata": {
    "metadata": {}
   },
   "outputs": [
    {
     "name": "stdout",
     "output_type": "stream",
     "text": [
      "(582405, 4) (582405, 4)\n",
      "(582405, 7) (582405, 4) (582405, 4)\n",
      "<bound method DataFrame.head of shape: (582_405, 11)\n",
      "┌───────────┬───────────┬───────────┬───────────┬───┬──────────┬───────────┬───────────┬───────────┐\n",
      "│ ts_event  ┆ bid_px_00 ┆ bid_ct_00 ┆ best_bid_ ┆ … ┆ spread   ┆ mid_price ┆ weighted_ ┆ volume_im │\n",
      "│ ---       ┆ ---       ┆ ---       ┆ total     ┆   ┆ ---      ┆ ---       ┆ mid_price ┆ balance   │\n",
      "│ datetime[ ┆ f64       ┆ i64       ┆ ---       ┆   ┆ f32      ┆ f64       ┆ ---       ┆ ---       │\n",
      "│ ms]       ┆           ┆           ┆ i64       ┆   ┆          ┆           ┆ f32       ┆ f32       │\n",
      "╞═══════════╪═══════════╪═══════════╪═══════════╪═══╪══════════╪═══════════╪═══════════╪═══════════╡\n",
      "│ 1970-01-0 ┆ 144.12    ┆ 107       ┆ 1700      ┆ … ┆ 0.14     ┆ 144.19    ┆ 144.14119 ┆ -493.0    │\n",
      "│ 1 00:54:2 ┆           ┆           ┆           ┆   ┆          ┆           ┆           ┆           │\n",
      "│ 8.757     ┆           ┆           ┆           ┆   ┆          ┆           ┆           ┆           │\n",
      "│ 1970-01-0 ┆ 142.445   ┆ 430       ┆ 2898      ┆ … ┆ 0.035    ┆ 142.4625  ┆ 142.46313 ┆ 30.0      │\n",
      "│ 1 03:39:5 ┆           ┆           ┆           ┆   ┆          ┆           ┆ 5         ┆           │\n",
      "│ 5.167     ┆           ┆           ┆           ┆   ┆          ┆           ┆           ┆           │\n",
      "│ 1970-01-0 ┆ 142.455   ┆ 810       ┆ 3094      ┆ … ┆ 0.025    ┆ 142.4675  ┆ 142.47174 ┆ 410.0     │\n",
      "│ 1 03:39:5 ┆           ┆           ┆           ┆   ┆          ┆           ┆ 1         ┆           │\n",
      "│ 5.176     ┆           ┆           ┆           ┆   ┆          ┆           ┆           ┆           │\n",
      "│ 1970-01-0 ┆ 141.93    ┆ 38        ┆ 3676      ┆ … ┆ 0.03     ┆ 141.945   ┆ 141.93072 ┆ -1482.0   │\n",
      "│ 1 06:36:4 ┆           ┆           ┆           ┆   ┆          ┆           ┆ 5         ┆           │\n",
      "│ 5.034     ┆           ┆           ┆           ┆   ┆          ┆           ┆           ┆           │\n",
      "│ 1970-01-0 ┆ 141.75    ┆ 200       ┆ 2035      ┆ … ┆ 0.05     ┆ 141.775   ┆ 141.75625 ┆ -1200.0   │\n",
      "│ 1 06:39:2 ┆           ┆           ┆           ┆   ┆          ┆           ┆ 6         ┆           │\n",
      "│ 7.326     ┆           ┆           ┆           ┆   ┆          ┆           ┆           ┆           │\n",
      "│ …         ┆ …         ┆ …         ┆ …         ┆ … ┆ …        ┆ …         ┆ …         ┆ …         │\n",
      "│ 1970-01-0 ┆ 143.12    ┆ 2         ┆ 1599      ┆ … ┆ 1.49     ┆ 143.865   ┆ 143.12977 ┆ -301.0    │\n",
      "│ 1 01:04:2 ┆           ┆           ┆           ┆   ┆          ┆           ┆ 6         ┆           │\n",
      "│ 3.050     ┆           ┆           ┆           ┆   ┆          ┆           ┆           ┆           │\n",
      "│ 1970-01-0 ┆ 142.48    ┆ 200       ┆ 2362      ┆ … ┆ 0.16     ┆ 142.56    ┆ 142.52571 ┆ -300.0    │\n",
      "│ 1 05:56:5 ┆           ┆           ┆           ┆   ┆          ┆           ┆ 1         ┆           │\n",
      "│ 5.041     ┆           ┆           ┆           ┆   ┆          ┆           ┆           ┆           │\n",
      "│ 1970-01-0 ┆ 142.58    ┆ 600       ┆ 2478      ┆ … ┆ 0.21     ┆ 142.685   ┆ 142.66400 ┆ -300.0    │\n",
      "│ 1 05:48:0 ┆           ┆           ┆           ┆   ┆          ┆           ┆ 1         ┆           │\n",
      "│ 3.259     ┆           ┆           ┆           ┆   ┆          ┆           ┆           ┆           │\n",
      "│ 1970-01-0 ┆ 141.78333 ┆ 934       ┆ 3369      ┆ … ┆ 0.056667 ┆ 141.81166 ┆ 141.81213 ┆ 30.0      │\n",
      "│ 1 06:39:3 ┆ 3         ┆           ┆           ┆   ┆          ┆ 7         ┆ 4         ┆           │\n",
      "│ 1.092     ┆           ┆           ┆           ┆   ┆          ┆           ┆           ┆           │\n",
      "│ 1970-01-0 ┆ 143.26    ┆ 600       ┆ 3110      ┆ … ┆ 0.098333 ┆ 143.30916 ┆ 143.28681 ┆ -1000.0   │\n",
      "│ 1 04:26:0 ┆           ┆           ┆           ┆   ┆          ┆ 7         ┆ 9         ┆           │\n",
      "│ 7.890     ┆           ┆           ┆           ┆   ┆          ┆           ┆           ┆           │\n",
      "└───────────┴───────────┴───────────┴───────────┴───┴──────────┴───────────┴───────────┴───────────┘>\n"
     ]
    },
    {
     "name": "stderr",
     "output_type": "stream",
     "text": [
      "100%|██████████| 3/3 [00:00<00:00, 74.20it/s]\n"
     ]
    }
   ],
   "source": [
    "def merge_bbo(best_bids_list, best_asks_list, unit=\"ms\"):\n",
    "    best_bids = pl.DataFrame(best_bids_list)\n",
    "    best_asks = pl.DataFrame(best_asks_list)\n",
    "    # Rename to best_bid_price and best_bid_size, best_ask_price and best_ask_size\n",
    "    best_bids = best_bids.rename({\"price\": \"bid_px_00\", \"size\": \"bid_ct_00\", \"total\": \"best_bid_total\"})\n",
    "    best_asks = best_asks.rename({\"price\": \"ask_px_00\", \"size\": \"ask_ct_00\", \"total\": \"best_ask_total\"})\n",
    "    # divide by the fixed price scale\n",
    "    best_bids = best_bids.with_columns([pl.col(\"bid_px_00\") / FIXED_PRICE_SCALE])\n",
    "    best_asks = best_asks.with_columns([pl.col(\"ask_px_00\") / FIXED_PRICE_SCALE])\n",
    "    # Forward fill the missing values\n",
    "\n",
    "    if unit == \"ms\": \n",
    "        best_bids = best_bids.with_columns(pl.col(\"ts_event\").dt.total_milliseconds())\n",
    "        best_asks = best_asks.with_columns(pl.col(\"ts_event\").dt.total_milliseconds())\n",
    "        best_bids = best_bids.group_by(\"ts_event\").agg(\n",
    "            pl.col(\"bid_px_00\").mean(), pl.col(\"bid_ct_00\").sum(), pl.col(\"best_bid_total\").last()\n",
    "        )\n",
    "        best_asks = best_asks.group_by(\"ts_event\").agg(\n",
    "            pl.col(\"ask_px_00\").mean(), pl.col(\"ask_ct_00\").sum(), pl.col(\"best_ask_total\").last()\n",
    "        )\n",
    "        print(best_bids.shape, best_asks.shape)\n",
    "    elif unit == \"s\":\n",
    "        print(best_bids.shape, best_asks.shape)\n",
    "        best_bids = best_bids.with_columns(pl.col(\"ts_event\").dt.total_seconds())\n",
    "        best_asks = best_asks.with_columns(pl.col(\"ts_event\").dt.total_seconds())\n",
    "        print(best_bids.shape, best_asks.shape)\n",
    "        best_bids = best_bids.group_by(\"ts_event\").agg(\n",
    "            pl.col(\"bid_px_00\").mean(), pl.col(\"bid_ct_00\").sum(), pl.col(\"best_bid_total\").last()\n",
    "        )\n",
    "        best_asks = best_asks.group_by(\"ts_event\").agg(\n",
    "            pl.col(\"ask_px_00\").mean(), pl.col(\"ask_ct_00\").sum(), pl.col(\"best_ask_total\").last()\n",
    "        )\n",
    "\n",
    "    \n",
    "    # lay out the timestamps\n",
    "    merged = best_bids.join(best_asks, on=\"ts_event\", how=\"inner\")\n",
    "    # P\n",
    "\n",
    "    print(merged.shape, best_bids.shape, best_asks.shape)\n",
    "    merged = merged.select(pl.all().forward_fill())\n",
    "    return merged   \n",
    "\n",
    "def prep_for_prediction(df: pl.DataFrame, offset=1000, lookback=\"1s\"):\n",
    "    df = df.with_columns(\n",
    "        spread=bid_ask_spread(df),\n",
    "        mid_price=mid_price(df),\n",
    "        weighted_mid_price=weighted_mid_price(df),\n",
    "        volume_imbalance=volume_imbalance(df)\n",
    "    )\n",
    "    feature_cols = [\n",
    "        'volume_imbalance',\n",
    "        'weighted_mid_price',\n",
    "        'spread'\n",
    "        # 'volatility',\n",
    "    ]\n",
    "    # df = df.with_columns(\n",
    "    #     # log_return=log_return(df),\n",
    "    #     rolling_weighted_mid_price=rolling_weighted_mid_price(df, lookback),\n",
    "    #     rolling_volatility=rolling_volatility(df, lookback),\n",
    "    #     rolling_volume_imbalance=rolling_volume_imbalance(df, lookback),\n",
    "    # )\n",
    "    # convert from ms to datetime\n",
    "    df = df.with_columns(pl.from_epoch(\"ts_event\", time_unit=\"ms\"))\n",
    "    df = df.set_sorted(\"ts_event\")\n",
    "    for col in feature_cols:\n",
    "        df=df.with_columns(pl.col(col).cast(pl.Float32))\n",
    "    print(df.head)\n",
    "\n",
    "    for col in tqdm.tqdm(feature_cols, total=len(feature_cols)):\n",
    "        df = df.with_columns(pl.col(col).rolling_mean(window_size=lookback, by=\"ts_event\").alias(f\"rolling_{col}\"))\n",
    "        # df = df.with_columns(pl.col(col).rolling_min(window_size=lookback, by=\"ts_event\").alias(f\"rolling_{col}_min\"))\n",
    "        # df = df.with_columns(pl.col(col).rolling_max(window_size=lookback, by=\"ts_event\").alias(f\"rolling_{col}_max\"))\n",
    "        # df = df.with_columns(pl.col(col).rolling_std(window_size=lookback, by=\"ts_event\").alias(f\"rolling_{col}_std\"))\n",
    "        # df = df.with_columns(pl.col(col).rolling_sum(window_size=lookback, by=\"ts_event\").alias(f\"rolling_{col}_sum\"))\n",
    "        # df = df.with_columns(pl.col(col).rolling_median(window_size=lookback, by=\"ts_event\").alias(f\"rolling_{col}_median\"))\n",
    "        # df = df.with_columns(pl.col(col).rolling_skew(window_size=lookback, by=\"ts_event\").alias(f\"rolling_{col}_skew\"))\n",
    "\n",
    "\n",
    "    df = df.drop(\"ts_event\")\n",
    "    df = df.with_columns(pl.col(\"mid_price\").diff().shift(-offset).alias(\"target\"))[: -offset]\n",
    "\n",
    "    # cast to f32\n",
    "  \n",
    "    return df\n",
    "\n",
    "merged = merge_bbo(best_bids_list, best_asks_list, unit=\"ms\")\n",
    "merged = prep_for_prediction(merged, offset=500)"
   ]
  },
  {
   "cell_type": "code",
   "execution_count": 12,
   "metadata": {
    "metadata": {}
   },
   "outputs": [
    {
     "data": {
      "text/plain": [
       "[<matplotlib.lines.Line2D at 0x3ef9f7820>]"
      ]
     },
     "execution_count": 12,
     "metadata": {},
     "output_type": "execute_result"
    },
    {
     "data": {
      "image/png": "[encoded data removed]",
      "text/plain": [
       "<Figure size 640x480 with 1 Axes>"
      ]
     },
     "metadata": {},
     "output_type": "display_data"
    }
   ],
   "source": [
    "import matplotlib.pyplot as plt\n",
    "plt.plot(merged[\"mid_price\"])\n"
   ]
  },
  {
   "cell_type": "code",
   "execution_count": 5,
   "metadata": {
    "metadata": {}
   },
   "outputs": [],
   "source": [
    "def preprocess(df):\n",
    "    # Forward fill the missing values\n",
    "\n",
    "    df = df.select(pl.all().forward_fill())\n",
    "\n",
    "\n",
    "    # Split into train and test\n",
    "    X = df.drop([\"target\"])\n",
    "    y = df[\"target\"]\n",
    "    split = int(0.8 * X.shape[0])\n",
    "\n",
    "    X_train, X_test, y_train, y_test = X[:split], X[split:], y[:split], y[split:]\n",
    "    # Convert to numpy arrays\n",
    "    X_train = X_train.to_numpy()\n",
    "    X_test = X_test.to_numpy()\n",
    "    y_train = y_train.to_numpy()\n",
    "    y_test = y_test.to_numpy()\n",
    "\n",
    "    # Fill any nan values with the mean\n",
    "    X_train = np.nan_to_num(X_train, nan=np.nanmean(X_train))\n",
    "    X_test = np.nan_to_num(X_test, nan=np.nanmean(X_train))\n",
    "    # Normalize the data\n",
    "    means = X_train.mean(axis=0)\n",
    "    stds = X_train.std(axis=0)\n",
    "    X_train = (X_train - means) / stds\n",
    "    X_test = (X_test - means) / stds\n",
    "    target_mean = y_train.mean()\n",
    "    target_std = y_train.std()\n",
    "    y_train = (y_train - target_mean) / target_std\n",
    "    y_test = (y_test - target_mean) / target_std\n",
    "    return X_train, X_test, y_train, y_test\n",
    "\n",
    "X_train, X_test, y_train, y_test = preprocess(merged)"
   ]
  },
  {
   "cell_type": "code",
   "execution_count": 10,
   "metadata": {
    "metadata": {}
   },
   "outputs": [
    {
     "name": "stdout",
     "output_type": "stream",
     "text": [
      "Model 0: mse: 1.0063, r2: 0.0005\n",
      "Model 1: mse: 1.0063, r2: 0.0001\n",
      "Model 2: mse: 1.0063, r2: -0.0001\n",
      "Mean mse: 1.0063, mean r2: 0.0003\n"
     ]
    }
   ],
   "source": [
    "\n",
    "\n",
    "\n",
    "\n",
    "\n",
    "def score(model_list, X_test, y_test, round_to=4):\n",
    "    preds = [model.predict(X_test) for model in model_list]\n",
    "    mean_preds = np.mean(preds, axis=0)\n",
    "    metrics = []\n",
    "    for pred in preds:\n",
    "        mse = mean_squared_error(y_test, pred)\n",
    "        r2 = r2_score(y_test, pred) * 100\n",
    "        metrics.append((mse, r2))\n",
    "    mean_mse = mean_squared_error(y_test, mean_preds)\n",
    "    mean_r2 = r2_score(y_test, mean_preds) * 100\n",
    "\n",
    "    for i, (mse, r2) in enumerate(metrics):\n",
    "        mse = np.round(mse.astype(np.float64), round_to)\n",
    "        r2 = np.round(r2.astype(np.float64), round_to)\n",
    "        print(f\"Model {i}: mse: {mse}, r2: {r2}\")\n",
    "\n",
    "\n",
    "    mean_mse, mean_r2 = round(mean_mse, round_to), round(mean_r2, round_to)\n",
    "    print(f\"Mean mse: {mean_mse}, mean r2: {mean_r2}\")\n",
    "\n",
    "def train_and_score(X_train, X_test, y_train, y_test, round_to=4):\n",
    "    model = Lasso(alpha=0.001)\n",
    "    model2 = XGBRegressor(\n",
    "        tree_method=\"hist\",\n",
    "        n_estimators=100,\n",
    "        learning_rate=0.001,\n",
    "        max_depth=2,\n",
    "        subsample=0.05,\n",
    "        colsample_bytree=0.5,\n",
    "        reg_alpha=1,\n",
    "        reg_lambda=1,\n",
    "    )\n",
    "    model3 = ElasticNet(alpha=0.00015, l1_ratio=0.5)\n",
    "    model.fit(X_train, y_train)\n",
    "    model2.fit(X_train, y_train)\n",
    "    model3.fit(X_train, y_train)\n",
    "    # model2 = model\n",
    "    score([model, model2, model3], X_test, y_test, round_to=round_to)\n",
    "\n",
    "train_and_score(X_train, X_test, y_train, y_test, round_to=4)"
   ]
  }
 ],
 "metadata": {
  "kernelspec": {
   "display_name": "project",
   "language": "python",
   "name": "python3"
  },
  "language_info": {
   "codemirror_mode": {
    "name": "ipython",
    "version": 3
   },
   "file_extension": ".py",
   "mimetype": "text/x-python",
   "name": "python",
   "nbconvert_exporter": "python",
   "pygments_lexer": "ipython3",
   "version": "3.10.12"
  }
 },
 "nbformat": 4,
 "nbformat_minor": 2
}
